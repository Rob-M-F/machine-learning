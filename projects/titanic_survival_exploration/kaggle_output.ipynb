{
 "cells": [
  {
   "cell_type": "code",
   "execution_count": 1,
   "metadata": {
    "collapsed": true
   },
   "outputs": [],
   "source": [
    "# -*- coding: utf-8 -*-\n",
    "\"\"\"\n",
    "Created on Tue Oct 18 17:27:22 2016\n",
    "\n",
    "@author: RMFit\n",
    "\"\"\"\n",
    "\n",
    "### imports ###\n",
    "import csv\n",
    "\n",
    "#pandas for data handling and processing\n",
    "import pandas as pd\n",
    "\n",
    "#seaborn for visualization\n",
    "import seaborn as sns\n",
    "\n",
    "#numpy for mathematical tools\n",
    "import numpy as np\n",
    "\n",
    "#matplotlib for plotting\n",
    "import matplotlib.pylab as plt\n",
    "import matplotlib\n",
    "matplotlib.style.use('ggplot')\n",
    "\n",
    "#sklearn for machine learning\n",
    "from sklearn.cross_validation import train_test_split\n",
    "from sklearn.ensemble import AdaBoostClassifier\n",
    "from sklearn.ensemble import RandomForestClassifier\n",
    "from sklearn.tree import DecisionTreeClassifier\n",
    "from sklearn.neighbors import KNeighborsClassifier\n",
    "from sklearn.metrics import accuracy_score, f1_score, precision_score, recall_score"
   ]
  },
  {
   "cell_type": "code",
   "execution_count": 2,
   "metadata": {
    "collapsed": true
   },
   "outputs": [],
   "source": [
    "#load dataset\n",
    "df_data = pd.read_csv(\"dataset/train.csv\", dtype={\"Age\": np.float64}, )\n",
    "df_test = pd.read_csv(\"dataset/test.csv\", dtype={\"Age\": np.float64}, )"
   ]
  },
  {
   "cell_type": "code",
   "execution_count": 3,
   "metadata": {
    "collapsed": true
   },
   "outputs": [],
   "source": [
    "def processDF(df):\n",
    "    df['Family'] = df['SibSp'] + df['Parch']\n",
    "    df.loc[df['Family'] > 0, 'Family'] = 1\n",
    "    \n",
    "    #convert Sex to numbers\n",
    "    df['Female'] = False\n",
    "    df.loc[df['Sex'] == 'female', 'Female'] = True\n",
    "    \n",
    "    #df_data = df_data.drop('PassengerId', axis=1)\n",
    "    df = df.drop('Name', axis=1)\n",
    "    df = df.drop('Embarked', axis=1)\n",
    "    df = df.drop('Cabin', axis=1)\n",
    "    df = df.drop('SibSp', axis=1)\n",
    "    df = df.drop('Parch', axis=1)\n",
    "    df = df.drop('Sex', axis=1)\n",
    "    df['Ticket'] = pd.to_numeric(df['Ticket'], errors='coerce')\n",
    "    FareDiv = df['Fare'].mean() + (df['Fare'].mean()/2)\n",
    "    df['Qclass'] = -1\n",
    "    df.loc[df['Pclass'] == 3, 'Qclass'] = 1\n",
    "    df.loc[(df['Pclass'] == 2) & (df['Fare'] > FareDiv), 'Qclass'] = 1\n",
    "    df['Adult'] = 0\n",
    "    df.loc[df['Age'] >= 16, 'Adult'] = 1\n",
    "    df['FareClass'] = 0\n",
    "    df['FareClass'] = df['Fare'] * df['Qclass']\n",
    "    \n",
    "    #normalize data\n",
    "    exCol = ['PassengerId', 'Survived']\n",
    "    for i in df.columns:\n",
    "        if i not in exCol:\n",
    "            ave = df[i].mean()\n",
    "            ran = df[i].max() - df[i].min()\n",
    "            df[i] = (df[i] - ave) / ran\n",
    "    return df\n",
    "\n"
   ]
  },
  {
   "cell_type": "code",
   "execution_count": 4,
   "metadata": {
    "collapsed": false
   },
   "outputs": [
    {
     "name": "stdout",
     "output_type": "stream",
     "text": [
      "             PassengerId  Survived    Pclass       Age    Ticket      Fare  \\\n",
      "PassengerId     1.000000 -0.005007 -0.035144  0.036847 -0.076043  0.012658   \n",
      "Survived       -0.005007  1.000000 -0.338481 -0.077221 -0.122464  0.257307   \n",
      "Pclass         -0.035144 -0.338481  1.000000 -0.369226  0.275151 -0.549500   \n",
      "Age             0.036847 -0.077221 -0.369226  1.000000 -0.148640  0.096067   \n",
      "Ticket         -0.076043 -0.122464  0.275151 -0.148640  1.000000 -0.139868   \n",
      "Fare            0.012658  0.257307 -0.549500  0.096067 -0.139868  1.000000   \n",
      "Family         -0.057462  0.203367 -0.135207 -0.198270  0.085057  0.271832   \n",
      "Female         -0.042939  0.543351 -0.131900 -0.093254 -0.046484  0.182333   \n",
      "Qclass         -0.028210 -0.326065  0.912433 -0.316136  0.267088 -0.401674   \n",
      "Adult           0.029170 -0.006102 -0.229730  0.582875 -0.022111  0.085989   \n",
      "FareClass      -0.016515 -0.305953  0.690518 -0.195914  0.238675 -0.900900   \n",
      "\n",
      "               Family    Female    Qclass     Adult  FareClass  \n",
      "PassengerId -0.057462 -0.042939 -0.028210  0.029170  -0.016515  \n",
      "Survived     0.203367  0.543351 -0.326065 -0.006102  -0.305953  \n",
      "Pclass      -0.135207 -0.131900  0.912433 -0.229730   0.690518  \n",
      "Age         -0.198270 -0.093254 -0.316136  0.582875  -0.195914  \n",
      "Ticket       0.085057 -0.046484  0.267088 -0.022111   0.238675  \n",
      "Fare         0.271832  0.182333 -0.401674  0.085989  -0.900900  \n",
      "Family       1.000000  0.303646 -0.119449 -0.089304  -0.140674  \n",
      "Female       0.303646  1.000000 -0.139592 -0.022598  -0.166380  \n",
      "Qclass      -0.119449 -0.139592  1.000000 -0.242057   0.602452  \n",
      "Adult       -0.089304 -0.022598 -0.242057  1.000000  -0.184162  \n",
      "FareClass   -0.140674 -0.166380  0.602452 -0.184162   1.000000  \n"
     ]
    },
    {
     "name": "stderr",
     "output_type": "stream",
     "text": [
      "C:\\Program Files\\Anaconda2\\lib\\site-packages\\ipykernel\\__main__.py:31: DeprecationWarning: numpy boolean subtract, the `-` operator, is deprecated, use the bitwise_xor, the `^` operator, or the logical_xor function instead.\n"
     ]
    }
   ],
   "source": [
    "df_data = processDF(df_data)\n",
    "df_test = processDF(df_test)\n",
    "\n",
    "sns.heatmap(df_data.corr())\n",
    "print(df_data.corr())\n",
    "#pd.scatter_matrix(df_data)\n"
   ]
  },
  {
   "cell_type": "code",
   "execution_count": 5,
   "metadata": {
    "collapsed": true
   },
   "outputs": [],
   "source": [
    "evalColumns = ['Female', 'FareClass', 'Family',]\n",
    "\n",
    "df_train = pd.DataFrame()\n",
    "df_final = pd.DataFrame()\n",
    "for column in evalColumns:\n",
    "    df_train[column] = df_data[column]\n",
    "    df_final[column] = df_test[column]\n",
    "\n",
    "np_train = df_train.values\n",
    "np_labels = df_data[\"Survived\"].values\n",
    "\n",
    "train_data, test_data, train_label, test_label = train_test_split(np_train, np_labels, test_size=0.33, random_state=1)"
   ]
  },
  {
   "cell_type": "code",
   "execution_count": 6,
   "metadata": {
    "collapsed": false
   },
   "outputs": [
    {
     "name": "stdout",
     "output_type": "stream",
     "text": [
      "('Accuracy: ', 0.78983050847457625)\n",
      "('  f1:        ', 0.71028037383177567)\n",
      "('Recall:   ', 0.81720430107526887)\n",
      "('  precision: ', 0.62809917355371903)\n",
      "[ 0.62877426  0.36066761  0.01055814]\n"
     ]
    }
   ],
   "source": [
    "dTree = DecisionTreeClassifier(min_samples_leaf=8)\n",
    "dTree.fit(train_data, train_label)\n",
    "dTreePred = dTree.predict(test_data)\n",
    "print(\"Accuracy: \", accuracy_score(dTreePred, test_label),)\n",
    "print(\"  f1:        \", f1_score(dTreePred, test_label))\n",
    "print(\"Recall:   \", recall_score(dTreePred, test_label),)\n",
    "print(\"  precision: \", precision_score(dTreePred, test_label))\n",
    "print(dTree.feature_importances_)"
   ]
  },
  {
   "cell_type": "code",
   "execution_count": 7,
   "metadata": {
    "collapsed": false
   },
   "outputs": [
    {
     "name": "stdout",
     "output_type": "stream",
     "text": [
      "('Accuracy: ', 0.80338983050847457)\n",
      "('  f1:        ', 0.72115384615384603)\n",
      "('Recall:   ', 0.86206896551724133)\n",
      "('  precision: ', 0.6198347107438017)\n",
      "[ 0.47914667  0.44154671  0.07930662]\n"
     ]
    }
   ],
   "source": [
    "rForest = RandomForestClassifier(min_samples_leaf=8)\n",
    "rForest.fit(train_data, train_label)\n",
    "rForestPred = rForest.predict(test_data)\n",
    "print(\"Accuracy: \", accuracy_score(rForestPred, test_label),)\n",
    "print(\"  f1:        \", f1_score(rForestPred, test_label))\n",
    "print(\"Recall:   \", recall_score(rForestPred, test_label),)\n",
    "print(\"  precision: \", precision_score(rForestPred, test_label))\n",
    "print(rForest.feature_importances_)"
   ]
  },
  {
   "cell_type": "code",
   "execution_count": 8,
   "metadata": {
    "collapsed": false,
    "scrolled": true
   },
   "outputs": [
    {
     "name": "stdout",
     "output_type": "stream",
     "text": [
      "Index([u'Female', u'FareClass', u'Family'], dtype='object')\n"
     ]
    },
    {
     "ename": "KeyError",
     "evalue": "'PassengerId'",
     "output_type": "error",
     "traceback": [
      "\u001b[0;31m---------------------------------------------------------------------------\u001b[0m",
      "\u001b[0;31mKeyError\u001b[0m                                  Traceback (most recent call last)",
      "\u001b[0;32m<ipython-input-8-7e20fba2af64>\u001b[0m in \u001b[0;36m<module>\u001b[0;34m()\u001b[0m\n\u001b[1;32m      3\u001b[0m \u001b[0moutput\u001b[0m \u001b[1;33m=\u001b[0m \u001b[0mdTree\u001b[0m\u001b[1;33m.\u001b[0m\u001b[0mpredict\u001b[0m\u001b[1;33m(\u001b[0m\u001b[0mdf_final\u001b[0m\u001b[1;33m)\u001b[0m\u001b[1;33m.\u001b[0m\u001b[0mastype\u001b[0m\u001b[1;33m(\u001b[0m\u001b[0mint\u001b[0m\u001b[1;33m)\u001b[0m\u001b[1;33m\u001b[0m\u001b[0m\n\u001b[1;32m      4\u001b[0m \u001b[1;32mprint\u001b[0m \u001b[0mdf_final\u001b[0m\u001b[1;33m.\u001b[0m\u001b[0mcolumns\u001b[0m\u001b[1;33m\u001b[0m\u001b[0m\n\u001b[0;32m----> 5\u001b[0;31m \u001b[0mids\u001b[0m \u001b[1;33m=\u001b[0m \u001b[0mdf_final\u001b[0m\u001b[1;33m[\u001b[0m\u001b[1;34m'PassengerId'\u001b[0m\u001b[1;33m]\u001b[0m\u001b[1;33m.\u001b[0m\u001b[0mastype\u001b[0m\u001b[1;33m(\u001b[0m\u001b[0mint\u001b[0m\u001b[1;33m)\u001b[0m\u001b[1;33m\u001b[0m\u001b[0m\n\u001b[0m",
      "\u001b[0;32mC:\\Program Files\\Anaconda2\\lib\\site-packages\\pandas\\core\\frame.pyc\u001b[0m in \u001b[0;36m__getitem__\u001b[0;34m(self, key)\u001b[0m\n\u001b[1;32m   1995\u001b[0m             \u001b[1;32mreturn\u001b[0m \u001b[0mself\u001b[0m\u001b[1;33m.\u001b[0m\u001b[0m_getitem_multilevel\u001b[0m\u001b[1;33m(\u001b[0m\u001b[0mkey\u001b[0m\u001b[1;33m)\u001b[0m\u001b[1;33m\u001b[0m\u001b[0m\n\u001b[1;32m   1996\u001b[0m         \u001b[1;32melse\u001b[0m\u001b[1;33m:\u001b[0m\u001b[1;33m\u001b[0m\u001b[0m\n\u001b[0;32m-> 1997\u001b[0;31m             \u001b[1;32mreturn\u001b[0m \u001b[0mself\u001b[0m\u001b[1;33m.\u001b[0m\u001b[0m_getitem_column\u001b[0m\u001b[1;33m(\u001b[0m\u001b[0mkey\u001b[0m\u001b[1;33m)\u001b[0m\u001b[1;33m\u001b[0m\u001b[0m\n\u001b[0m\u001b[1;32m   1998\u001b[0m \u001b[1;33m\u001b[0m\u001b[0m\n\u001b[1;32m   1999\u001b[0m     \u001b[1;32mdef\u001b[0m \u001b[0m_getitem_column\u001b[0m\u001b[1;33m(\u001b[0m\u001b[0mself\u001b[0m\u001b[1;33m,\u001b[0m \u001b[0mkey\u001b[0m\u001b[1;33m)\u001b[0m\u001b[1;33m:\u001b[0m\u001b[1;33m\u001b[0m\u001b[0m\n",
      "\u001b[0;32mC:\\Program Files\\Anaconda2\\lib\\site-packages\\pandas\\core\\frame.pyc\u001b[0m in \u001b[0;36m_getitem_column\u001b[0;34m(self, key)\u001b[0m\n\u001b[1;32m   2002\u001b[0m         \u001b[1;31m# get column\u001b[0m\u001b[1;33m\u001b[0m\u001b[1;33m\u001b[0m\u001b[0m\n\u001b[1;32m   2003\u001b[0m         \u001b[1;32mif\u001b[0m \u001b[0mself\u001b[0m\u001b[1;33m.\u001b[0m\u001b[0mcolumns\u001b[0m\u001b[1;33m.\u001b[0m\u001b[0mis_unique\u001b[0m\u001b[1;33m:\u001b[0m\u001b[1;33m\u001b[0m\u001b[0m\n\u001b[0;32m-> 2004\u001b[0;31m             \u001b[1;32mreturn\u001b[0m \u001b[0mself\u001b[0m\u001b[1;33m.\u001b[0m\u001b[0m_get_item_cache\u001b[0m\u001b[1;33m(\u001b[0m\u001b[0mkey\u001b[0m\u001b[1;33m)\u001b[0m\u001b[1;33m\u001b[0m\u001b[0m\n\u001b[0m\u001b[1;32m   2005\u001b[0m \u001b[1;33m\u001b[0m\u001b[0m\n\u001b[1;32m   2006\u001b[0m         \u001b[1;31m# duplicate columns & possible reduce dimensionality\u001b[0m\u001b[1;33m\u001b[0m\u001b[1;33m\u001b[0m\u001b[0m\n",
      "\u001b[0;32mC:\\Program Files\\Anaconda2\\lib\\site-packages\\pandas\\core\\generic.pyc\u001b[0m in \u001b[0;36m_get_item_cache\u001b[0;34m(self, item)\u001b[0m\n\u001b[1;32m   1348\u001b[0m         \u001b[0mres\u001b[0m \u001b[1;33m=\u001b[0m \u001b[0mcache\u001b[0m\u001b[1;33m.\u001b[0m\u001b[0mget\u001b[0m\u001b[1;33m(\u001b[0m\u001b[0mitem\u001b[0m\u001b[1;33m)\u001b[0m\u001b[1;33m\u001b[0m\u001b[0m\n\u001b[1;32m   1349\u001b[0m         \u001b[1;32mif\u001b[0m \u001b[0mres\u001b[0m \u001b[1;32mis\u001b[0m \u001b[0mNone\u001b[0m\u001b[1;33m:\u001b[0m\u001b[1;33m\u001b[0m\u001b[0m\n\u001b[0;32m-> 1350\u001b[0;31m             \u001b[0mvalues\u001b[0m \u001b[1;33m=\u001b[0m \u001b[0mself\u001b[0m\u001b[1;33m.\u001b[0m\u001b[0m_data\u001b[0m\u001b[1;33m.\u001b[0m\u001b[0mget\u001b[0m\u001b[1;33m(\u001b[0m\u001b[0mitem\u001b[0m\u001b[1;33m)\u001b[0m\u001b[1;33m\u001b[0m\u001b[0m\n\u001b[0m\u001b[1;32m   1351\u001b[0m             \u001b[0mres\u001b[0m \u001b[1;33m=\u001b[0m \u001b[0mself\u001b[0m\u001b[1;33m.\u001b[0m\u001b[0m_box_item_values\u001b[0m\u001b[1;33m(\u001b[0m\u001b[0mitem\u001b[0m\u001b[1;33m,\u001b[0m \u001b[0mvalues\u001b[0m\u001b[1;33m)\u001b[0m\u001b[1;33m\u001b[0m\u001b[0m\n\u001b[1;32m   1352\u001b[0m             \u001b[0mcache\u001b[0m\u001b[1;33m[\u001b[0m\u001b[0mitem\u001b[0m\u001b[1;33m]\u001b[0m \u001b[1;33m=\u001b[0m \u001b[0mres\u001b[0m\u001b[1;33m\u001b[0m\u001b[0m\n",
      "\u001b[0;32mC:\\Program Files\\Anaconda2\\lib\\site-packages\\pandas\\core\\internals.pyc\u001b[0m in \u001b[0;36mget\u001b[0;34m(self, item, fastpath)\u001b[0m\n\u001b[1;32m   3288\u001b[0m \u001b[1;33m\u001b[0m\u001b[0m\n\u001b[1;32m   3289\u001b[0m             \u001b[1;32mif\u001b[0m \u001b[1;32mnot\u001b[0m \u001b[0misnull\u001b[0m\u001b[1;33m(\u001b[0m\u001b[0mitem\u001b[0m\u001b[1;33m)\u001b[0m\u001b[1;33m:\u001b[0m\u001b[1;33m\u001b[0m\u001b[0m\n\u001b[0;32m-> 3290\u001b[0;31m                 \u001b[0mloc\u001b[0m \u001b[1;33m=\u001b[0m \u001b[0mself\u001b[0m\u001b[1;33m.\u001b[0m\u001b[0mitems\u001b[0m\u001b[1;33m.\u001b[0m\u001b[0mget_loc\u001b[0m\u001b[1;33m(\u001b[0m\u001b[0mitem\u001b[0m\u001b[1;33m)\u001b[0m\u001b[1;33m\u001b[0m\u001b[0m\n\u001b[0m\u001b[1;32m   3291\u001b[0m             \u001b[1;32melse\u001b[0m\u001b[1;33m:\u001b[0m\u001b[1;33m\u001b[0m\u001b[0m\n\u001b[1;32m   3292\u001b[0m                 \u001b[0mindexer\u001b[0m \u001b[1;33m=\u001b[0m \u001b[0mnp\u001b[0m\u001b[1;33m.\u001b[0m\u001b[0marange\u001b[0m\u001b[1;33m(\u001b[0m\u001b[0mlen\u001b[0m\u001b[1;33m(\u001b[0m\u001b[0mself\u001b[0m\u001b[1;33m.\u001b[0m\u001b[0mitems\u001b[0m\u001b[1;33m)\u001b[0m\u001b[1;33m)\u001b[0m\u001b[1;33m[\u001b[0m\u001b[0misnull\u001b[0m\u001b[1;33m(\u001b[0m\u001b[0mself\u001b[0m\u001b[1;33m.\u001b[0m\u001b[0mitems\u001b[0m\u001b[1;33m)\u001b[0m\u001b[1;33m]\u001b[0m\u001b[1;33m\u001b[0m\u001b[0m\n",
      "\u001b[0;32mC:\\Program Files\\Anaconda2\\lib\\site-packages\\pandas\\indexes\\base.pyc\u001b[0m in \u001b[0;36mget_loc\u001b[0;34m(self, key, method, tolerance)\u001b[0m\n\u001b[1;32m   1945\u001b[0m                 \u001b[1;32mreturn\u001b[0m \u001b[0mself\u001b[0m\u001b[1;33m.\u001b[0m\u001b[0m_engine\u001b[0m\u001b[1;33m.\u001b[0m\u001b[0mget_loc\u001b[0m\u001b[1;33m(\u001b[0m\u001b[0mkey\u001b[0m\u001b[1;33m)\u001b[0m\u001b[1;33m\u001b[0m\u001b[0m\n\u001b[1;32m   1946\u001b[0m             \u001b[1;32mexcept\u001b[0m \u001b[0mKeyError\u001b[0m\u001b[1;33m:\u001b[0m\u001b[1;33m\u001b[0m\u001b[0m\n\u001b[0;32m-> 1947\u001b[0;31m                 \u001b[1;32mreturn\u001b[0m \u001b[0mself\u001b[0m\u001b[1;33m.\u001b[0m\u001b[0m_engine\u001b[0m\u001b[1;33m.\u001b[0m\u001b[0mget_loc\u001b[0m\u001b[1;33m(\u001b[0m\u001b[0mself\u001b[0m\u001b[1;33m.\u001b[0m\u001b[0m_maybe_cast_indexer\u001b[0m\u001b[1;33m(\u001b[0m\u001b[0mkey\u001b[0m\u001b[1;33m)\u001b[0m\u001b[1;33m)\u001b[0m\u001b[1;33m\u001b[0m\u001b[0m\n\u001b[0m\u001b[1;32m   1948\u001b[0m \u001b[1;33m\u001b[0m\u001b[0m\n\u001b[1;32m   1949\u001b[0m         \u001b[0mindexer\u001b[0m \u001b[1;33m=\u001b[0m \u001b[0mself\u001b[0m\u001b[1;33m.\u001b[0m\u001b[0mget_indexer\u001b[0m\u001b[1;33m(\u001b[0m\u001b[1;33m[\u001b[0m\u001b[0mkey\u001b[0m\u001b[1;33m]\u001b[0m\u001b[1;33m,\u001b[0m \u001b[0mmethod\u001b[0m\u001b[1;33m=\u001b[0m\u001b[0mmethod\u001b[0m\u001b[1;33m,\u001b[0m \u001b[0mtolerance\u001b[0m\u001b[1;33m=\u001b[0m\u001b[0mtolerance\u001b[0m\u001b[1;33m)\u001b[0m\u001b[1;33m\u001b[0m\u001b[0m\n",
      "\u001b[0;32mpandas\\index.pyx\u001b[0m in \u001b[0;36mpandas.index.IndexEngine.get_loc (pandas\\index.c:4154)\u001b[0;34m()\u001b[0m\n",
      "\u001b[0;32mpandas\\index.pyx\u001b[0m in \u001b[0;36mpandas.index.IndexEngine.get_loc (pandas\\index.c:4018)\u001b[0;34m()\u001b[0m\n",
      "\u001b[0;32mpandas\\hashtable.pyx\u001b[0m in \u001b[0;36mpandas.hashtable.PyObjectHashTable.get_item (pandas\\hashtable.c:12368)\u001b[0;34m()\u001b[0m\n",
      "\u001b[0;32mpandas\\hashtable.pyx\u001b[0m in \u001b[0;36mpandas.hashtable.PyObjectHashTable.get_item (pandas\\hashtable.c:12322)\u001b[0;34m()\u001b[0m\n",
      "\u001b[0;31mKeyError\u001b[0m: 'PassengerId'"
     ]
    }
   ],
   "source": [
    "df_final = df_final.fillna(value=0)\n",
    "np_final = df_final.values\n",
    "output = dTree.predict(df_final).astype(int)\n",
    "print df_final.columns\n",
    "ids = df_final['PassengerId'].astype(int)"
   ]
  },
  {
   "cell_type": "code",
   "execution_count": null,
   "metadata": {
    "collapsed": true
   },
   "outputs": [],
   "source": [
    "predictions_file = open(\"dTreePred2c.csv\", \"wb\")\n",
    "open_file_object = csv.DictWriter(predictions_file, fieldnames=['PassengerId','Survived'])\n",
    "open_file_object.writeheader()\n",
    "for i in range(len(output)):\n",
    "    open_file_object.writerows({'PassengerId': ids[i], 'Survived': output[i]})\n",
    "predictions_file.close()"
   ]
  }
 ],
 "metadata": {
  "anaconda-cloud": {},
  "kernelspec": {
   "display_name": "Python [default]",
   "language": "python",
   "name": "python2"
  },
  "language_info": {
   "codemirror_mode": {
    "name": "ipython",
    "version": 2
   },
   "file_extension": ".py",
   "mimetype": "text/x-python",
   "name": "python",
   "nbconvert_exporter": "python",
   "pygments_lexer": "ipython2",
   "version": "2.7.12"
  }
 },
 "nbformat": 4,
 "nbformat_minor": 1
}
